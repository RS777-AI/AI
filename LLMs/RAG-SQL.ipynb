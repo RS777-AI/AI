{
 "cells": [
  {
   "cell_type": "code",
   "execution_count": 8,
   "id": "42f27d7c",
   "metadata": {},
   "outputs": [],
   "source": [
    "import sqlite3\n",
    "from transformers import T5Tokenizer, T5ForConditionalGeneration\n",
    "import torch"
   ]
  },
  {
   "cell_type": "code",
   "execution_count": 9,
   "id": "8b208508",
   "metadata": {},
   "outputs": [],
   "source": [
    "# Create or connect to SQLite DB\n",
    "conn = sqlite3.connect(\"sample.db\")\n",
    "cursor = conn.cursor()"
   ]
  },
  {
   "cell_type": "code",
   "execution_count": null,
   "id": "18f44f6b",
   "metadata": {},
   "outputs": [],
   "source": [
    "# Create the required table columns and enter data of each rows..\n",
    "\n",
    "cursor.execute(\"\"\"\n",
    "CREATE TABLE IF NOT EXISTS customers (\n",
    "    id INTEGER PRIMARY KEY,\n",
    "    name TEXT,\n",
    "    total_purchase REAL\n",
    ")\n",
    "\"\"\")\n",
    "\n",
    "cursor.execute(\"\"\"\n",
    "CREATE TABLE IF NOT EXISTS orders (\n",
    "    id INTEGER PRIMARY KEY,\n",
    "    customer_id INTEGER,\n",
    "    amount REAL,\n",
    "    order_date TEXT,\n",
    "    FOREIGN KEY (customer_id) REFERENCES customers(id)\n",
    ")\n",
    "\"\"\")\n",
    "\n",
    "cursor.executemany(\"INSERT INTO customers (id, name, total_purchase) VALUES (?, ?, ?)\", [\n",
    "    (1, \"Alice\", 7500),\n",
    "    (2, \"Bob\", 4500),\n",
    "    (3, \"Charlie\", 5200)\n",
    "])\n",
    "\n",
    "cursor.executemany(\"INSERT INTO orders (id, customer_id, amount, order_date) VALUES (?, ?, ?, ?)\", [\n",
    "    (1, 1, 3000, \"2024-01-01\"),\n",
    "    (2, 1, 4500, \"2024-02-10\"),\n",
    "    (3, 2, 4500, \"2024-03-01\"),\n",
    "    (4, 3, 5200, \"2024-03-15\")\n",
    "])"
   ]
  },
  {
   "cell_type": "code",
   "execution_count": null,
   "id": "249bff3d",
   "metadata": {},
   "outputs": [],
   "source": [
    "# To get table schema\n",
    "cursor.execute(\"PRAGMA table_info(customers)\")\n",
    "schema_rows = cursor.fetchall()"
   ]
  },
  {
   "cell_type": "code",
   "execution_count": 21,
   "id": "298aa93f",
   "metadata": {},
   "outputs": [
    {
     "data": {
      "text/plain": [
       "[(0, 'id', 'INTEGER', 0, None, 1),\n",
       " (1, 'name', 'TEXT', 0, None, 0),\n",
       " (2, 'total_purchase', 'REAL', 0, None, 0)]"
      ]
     },
     "execution_count": 21,
     "metadata": {},
     "output_type": "execute_result"
    }
   ],
   "source": [
    "schema_rows"
   ]
  },
  {
   "cell_type": "code",
   "execution_count": 13,
   "id": "c82021bb",
   "metadata": {},
   "outputs": [],
   "source": [
    "# Format schema as text\n",
    "schema_text = \"Table customers with columns: \" + \", \".join(\n",
    "    f\"{col[1]} ({col[2]})\" for col in schema_rows\n",
    ")"
   ]
  },
  {
   "cell_type": "code",
   "execution_count": 22,
   "id": "34feecfd",
   "metadata": {},
   "outputs": [
    {
     "data": {
      "text/plain": [
       "'Table customers with columns: id (INTEGER), name (TEXT), total_purchase (REAL)'"
      ]
     },
     "execution_count": 22,
     "metadata": {},
     "output_type": "execute_result"
    }
   ],
   "source": [
    "schema_text"
   ]
  },
  {
   "cell_type": "code",
   "execution_count": null,
   "id": "78957ee9",
   "metadata": {},
   "outputs": [],
   "source": [
    "# Load tokenizer and model\n",
    "model_name = \"cssupport/t5-small-awesome-text-to-sql\"\n",
    "tokenizer = T5Tokenizer.from_pretrained(model_name)\n",
    "model = T5ForConditionalGeneration.from_pretrained(model_name)"
   ]
  },
  {
   "cell_type": "code",
   "execution_count": 16,
   "id": "d7316e24",
   "metadata": {},
   "outputs": [],
   "source": [
    "# Natural language input\n",
    "question = \"How many customers have spent more than 5000?\"\n",
    "\n",
    "# Final prompt to model\n",
    "input_text = f\"{schema_text}. Question: {question}\"\n",
    "input_ids = tokenizer.encode(f\"translate English to SQL: {input_text}\", return_tensors=\"pt\")"
   ]
  },
  {
   "cell_type": "code",
   "execution_count": 24,
   "id": "b1f13bb8",
   "metadata": {},
   "outputs": [
    {
     "name": "stdout",
     "output_type": "stream",
     "text": [
      "Table customers with columns: id (INTEGER), name (TEXT), total_purchase (REAL). Question: How many customers have spent more than 5000?\n",
      "tensor([[13959,  1566,    12, 12558,    10,  4398,   722,    28, 15752,    10,\n",
      "             3,    23,    26,    41, 21342, 17966,   201,   564,    41,  3463,\n",
      "             4,   382,   201,   792,   834, 29446,    41, 13223,   434,   137,\n",
      "         11860,    10,   571,   186,   722,    43,  1869,    72,   145,     3,\n",
      "         12814,    58,     1]], device='cuda:0')\n"
     ]
    }
   ],
   "source": [
    "print(input_text)\n",
    "print(input_ids)"
   ]
  },
  {
   "cell_type": "code",
   "execution_count": 18,
   "id": "e4abea11",
   "metadata": {},
   "outputs": [],
   "source": [
    "device = torch.device(\"cuda\" if torch.cuda.is_available() else \"cpu\")\n",
    "\n",
    "model = model.to(device)  # Move model to GPU or CPU\n",
    "input_ids = input_ids.to(device)  # Move input to same device"
   ]
  },
  {
   "cell_type": "code",
   "execution_count": 25,
   "id": "ec29175a",
   "metadata": {},
   "outputs": [
    {
     "data": {
      "text/plain": [
       "device(type='cuda')"
      ]
     },
     "execution_count": 25,
     "metadata": {},
     "output_type": "execute_result"
    }
   ],
   "source": [
    "device"
   ]
  },
  {
   "cell_type": "code",
   "execution_count": 19,
   "id": "ec9e43ca",
   "metadata": {},
   "outputs": [
    {
     "name": "stdout",
     "output_type": "stream",
     "text": [
      "Generated SQL: SELECT COUNT(*) FROM customers WHERE total_purchase > 5000\n"
     ]
    }
   ],
   "source": [
    "# Generate SQL\n",
    "outputs = model.generate(input_ids, max_length=64)\n",
    "sql_query = tokenizer.decode(outputs[0], skip_special_tokens=True)\n",
    "\n",
    "print(\"Generated SQL:\", sql_query)"
   ]
  },
  {
   "cell_type": "code",
   "execution_count": 26,
   "id": "afea97b7",
   "metadata": {},
   "outputs": [
    {
     "data": {
      "text/plain": [
       "tensor([[    0,     3, 23143, 14196,  2847, 17161,   599,  1935,    61, 21680,\n",
       "           722,   549, 17444,   427,   792,   834, 29446,  2490,     3, 12814,\n",
       "             1]], device='cuda:0')"
      ]
     },
     "execution_count": 26,
     "metadata": {},
     "output_type": "execute_result"
    }
   ],
   "source": [
    "outputs"
   ]
  },
  {
   "cell_type": "code",
   "execution_count": 20,
   "id": "97509acc",
   "metadata": {},
   "outputs": [
    {
     "name": "stdout",
     "output_type": "stream",
     "text": [
      "SQL Result: [(2,)]\n"
     ]
    }
   ],
   "source": [
    "try:\n",
    "    cursor.execute(sql_query)\n",
    "    result = cursor.fetchall()\n",
    "    print(\"SQL Result:\", result)\n",
    "except Exception as e:\n",
    "    print(\"Error executing SQL:\", e)\n",
    "\n",
    "conn.close()"
   ]
  }
 ],
 "metadata": {
  "kernelspec": {
   "display_name": "torch",
   "language": "python",
   "name": "python3"
  },
  "language_info": {
   "codemirror_mode": {
    "name": "ipython",
    "version": 3
   },
   "file_extension": ".py",
   "mimetype": "text/x-python",
   "name": "python",
   "nbconvert_exporter": "python",
   "pygments_lexer": "ipython3",
   "version": "3.9.19"
  }
 },
 "nbformat": 4,
 "nbformat_minor": 5
}
